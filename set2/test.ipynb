{
 "cells": [
  {
   "cell_type": "code",
   "execution_count": 1,
   "metadata": {},
   "outputs": [],
   "source": [
    "pt1=b\"AAAAAAAAAAARollin' in my 5.0\\nWith my rag-top dov\"\n",
    "pt2=b\"AAAAAAAAAAARollin' in my 5.0\\nWith my rag-top dow\"\n",
    "key = b'dTP\\xdc\"\\xb8\\xa4\\x12\\xe3H\\xfc\\xd5zS\\x02\\xf2'"
   ]
  },
  {
   "cell_type": "code",
   "execution_count": 2,
   "metadata": {},
   "outputs": [
    {
     "name": "stdout",
     "output_type": "stream",
     "text": [
      "cipher1: b\"\\xe8&i\\x08\\x13F-\\xa2\\x9a*\\xc3\\xc6\\x9f\\xb0\\xae\\x9b\\x8d\\xc5\\xabJ\\x1b\\x99QP'`\\x07J\\xcd&\\xa0y\\xe6\\x1a7l\\xca\\xb5\\x10\\x8a\\x9be\\xf0\\x13\\xe8n\\xb7\\xf9\"\n",
      "cipher2: b\"\\xe8&i\\x08\\x13F-\\xa2\\x9a*\\xc3\\xc6\\x9f\\xb0\\xae\\x9b\\x8d\\xc5\\xabJ\\x1b\\x99QP'`\\x07J\\xcd&\\xa0y3\\xf5\\xcbrS4\\xce\\xd8{\\x84L\\xaa\\xbaN\\x08\\xf9\"\n"
     ]
    }
   ],
   "source": [
    "\n",
    "from aes import *\n",
    "\n",
    "ciphertext1 = encrypt_aes_ecb(pt1,key)\n",
    "ciphertext2 = encrypt_aes_ecb(pt2,key)\n",
    "\n",
    "print(f\"cipher1: {ciphertext1}\")\n",
    "print(f\"cipher2: {ciphertext2}\")\n",
    "\n",
    "# notes: v and w did encrypto to the same \\xf9 , but if you look at the entire block it's different\n"
   ]
  }
 ],
 "metadata": {
  "kernelspec": {
   "display_name": "Python 3",
   "language": "python",
   "name": "python3"
  },
  "language_info": {
   "codemirror_mode": {
    "name": "ipython",
    "version": 3
   },
   "file_extension": ".py",
   "mimetype": "text/x-python",
   "name": "python",
   "nbconvert_exporter": "python",
   "pygments_lexer": "ipython3",
   "version": "3.10.6"
  },
  "orig_nbformat": 4
 },
 "nbformat": 4,
 "nbformat_minor": 2
}
