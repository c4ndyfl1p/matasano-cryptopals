{
 "cells": [
  {
   "attachments": {},
   "cell_type": "markdown",
   "metadata": {},
   "source": [
    "## PKCS#7 padding validation\n",
    "Write a function that takes a plaintext, determines if it has valid PKCS#7 padding, and strips the padding off.\n",
    "\n",
    "The string:\n",
    "\n",
    "```\n",
    "\"ICE ICE BABY\\x04\\x04\\x04\\x04\"\n",
    "```\n",
    "\n",
    "... has valid padding, and produces the result \"ICE ICE BABY\".\n",
    "\n",
    "The string:\n",
    "\n",
    "```\"ICE ICE BABY\\x05\\x05\\x05\\x05\"```\n",
    "... does not have valid padding, nor does:\n",
    "\n",
    "\"ICE ICE BABY\\x01\\x02\\x03\\x04\"\n",
    "If you are writing in a language with exceptions, like Python or Ruby, make your function throw an exception on bad padding.\n",
    "\n",
    "Crypto nerds know where we're going with this. Bear with us."
   ]
  },
  {
   "cell_type": "code",
   "execution_count": 26,
   "metadata": {},
   "outputs": [
    {
     "ename": "Exception",
     "evalue": "Invalid PKCS#7 padding",
     "output_type": "error",
     "traceback": [
      "\u001b[0;31m---------------------------------------------------------------------------\u001b[0m",
      "\u001b[0;31mException\u001b[0m                                 Traceback (most recent call last)",
      "\u001b[1;32m/home/c4ndyp0p/sem6/matasano-cryptopals/set2/15.ipynb Cell 2\u001b[0m in \u001b[0;36m<cell line: 14>\u001b[0;34m()\u001b[0m\n\u001b[1;32m     <a href='vscode-notebook-cell:/home/c4ndyp0p/sem6/matasano-cryptopals/set2/15.ipynb#W1sZmlsZQ%3D%3D?line=9'>10</a>\u001b[0m         \u001b[39mraise\u001b[39;00m \u001b[39mException\u001b[39;00m(\u001b[39m\"\u001b[39m\u001b[39mInvalid PKCS#7 padding\u001b[39m\u001b[39m\"\u001b[39m)\n\u001b[1;32m     <a href='vscode-notebook-cell:/home/c4ndyp0p/sem6/matasano-cryptopals/set2/15.ipynb#W1sZmlsZQ%3D%3D?line=11'>12</a>\u001b[0m verify_pkcs7_padding(unknown_input_string)\n\u001b[0;32m---> <a href='vscode-notebook-cell:/home/c4ndyp0p/sem6/matasano-cryptopals/set2/15.ipynb#W1sZmlsZQ%3D%3D?line=13'>14</a>\u001b[0m verify_pkcs7_padding(\u001b[39mb\u001b[39;49m\u001b[39m'\u001b[39;49m\u001b[39mICE ICE BABY\u001b[39;49m\u001b[39m\\x05\u001b[39;49;00m\u001b[39m\\x05\u001b[39;49;00m\u001b[39m\\x05\u001b[39;49;00m\u001b[39m\\x05\u001b[39;49;00m\u001b[39m'\u001b[39;49m)\n",
      "\u001b[1;32m/home/c4ndyp0p/sem6/matasano-cryptopals/set2/15.ipynb Cell 2\u001b[0m in \u001b[0;36mverify_pkcs7_padding\u001b[0;34m(unknown_input_string)\u001b[0m\n\u001b[1;32m      <a href='vscode-notebook-cell:/home/c4ndyp0p/sem6/matasano-cryptopals/set2/15.ipynb#W1sZmlsZQ%3D%3D?line=7'>8</a>\u001b[0m     \u001b[39mreturn\u001b[39;00m val\n\u001b[1;32m      <a href='vscode-notebook-cell:/home/c4ndyp0p/sem6/matasano-cryptopals/set2/15.ipynb#W1sZmlsZQ%3D%3D?line=8'>9</a>\u001b[0m \u001b[39melse\u001b[39;00m:\n\u001b[0;32m---> <a href='vscode-notebook-cell:/home/c4ndyp0p/sem6/matasano-cryptopals/set2/15.ipynb#W1sZmlsZQ%3D%3D?line=9'>10</a>\u001b[0m     \u001b[39mraise\u001b[39;00m \u001b[39mException\u001b[39;00m(\u001b[39m\"\u001b[39m\u001b[39mInvalid PKCS#7 padding\u001b[39m\u001b[39m\"\u001b[39m)\n",
      "\u001b[0;31mException\u001b[0m: Invalid PKCS#7 padding"
     ]
    }
   ],
   "source": [
    "unknown_input_string = b'ICE ICE BABY\\x04\\x04\\x04\\x04'\n",
    "# print(unknown_input_string[:-unknown_input_string[-1]].decode())\n",
    "\n",
    "def verify_pkcs7_padding(unknown_input_string):\n",
    "    if unknown_input_string[-unknown_input_string[-1]:] == bytes([unknown_input_string[-1]]) * unknown_input_string[-1]:\n",
    "        # strip off the padding and return\n",
    "        val = unknown_input_string[:-unknown_input_string[-1]]\n",
    "        return val\n",
    "    else:\n",
    "        raise Exception(\"Invalid PKCS#7 padding\")\n",
    "    \n",
    "verify_pkcs7_padding(unknown_input_string)\n",
    "\n",
    "# verify_pkcs7_padding(b'ICE ICE BABY\\x05\\x05\\x05\\x05')"
   ]
  },
  {
   "cell_type": "code",
   "execution_count": 17,
   "metadata": {},
   "outputs": [
    {
     "data": {
      "text/plain": [
       "b'\\x04'"
      ]
     },
     "execution_count": 17,
     "metadata": {},
     "output_type": "execute_result"
    }
   ],
   "source": [
    "bytes([unknown_input_string[-1]])"
   ]
  },
  {
   "cell_type": "code",
   "execution_count": 16,
   "metadata": {},
   "outputs": [
    {
     "data": {
      "text/plain": [
       "4"
      ]
     },
     "execution_count": 16,
     "metadata": {},
     "output_type": "execute_result"
    }
   ],
   "source": [
    "unknown_input_string[-1]"
   ]
  },
  {
   "cell_type": "code",
   "execution_count": 14,
   "metadata": {},
   "outputs": [
    {
     "data": {
      "text/plain": [
       "b'\\x04\\x04\\x04\\x04'"
      ]
     },
     "execution_count": 14,
     "metadata": {},
     "output_type": "execute_result"
    }
   ],
   "source": [
    "unknown_input_string[-unknown_input_string[-1]:]"
   ]
  }
 ],
 "metadata": {
  "kernelspec": {
   "display_name": "Python 3",
   "language": "python",
   "name": "python3"
  },
  "language_info": {
   "codemirror_mode": {
    "name": "ipython",
    "version": 3
   },
   "file_extension": ".py",
   "mimetype": "text/x-python",
   "name": "python",
   "nbconvert_exporter": "python",
   "pygments_lexer": "ipython3",
   "version": "3.10.6"
  },
  "orig_nbformat": 4
 },
 "nbformat": 4,
 "nbformat_minor": 2
}
