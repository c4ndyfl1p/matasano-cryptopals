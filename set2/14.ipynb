{
 "cells": [
  {
   "cell_type": "code",
   "execution_count": 32,
   "metadata": {},
   "outputs": [],
   "source": [
    "import base64\n",
    "from pprint import pprint\n",
    "from aes import *\n",
    "\n",
    "key = b'dTP\\xdc\"\\xb8\\xa4\\x12\\xe3H\\xfc\\xd5zS\\x02\\xf2'\n",
    "unknown_string = b'Um9sbGluJyBpbiBteSA1LjAKV2l0aCBteSByYWctdG9wIGRvd24gc28gbXkgaGFpciBjYW4gYmxvdwpUaGUgZ2lybGllcyBvbiBzdGFuZGJ5IHdhdmluZyBqdXN0IHRvIHNheSBoaQpEaWQgeW91IHN0b3A/IE5vLCBJIGp1c3QgZHJvdmUgYnkK'\n",
    "\n",
    "prefix = b'\\x8f/\\x016\\x9f'\n",
    "\n",
    "padded_message = PKCS7_padding(base64.b64decode(unknown_string), 16)"
   ]
  },
  {
   "cell_type": "code",
   "execution_count": 2,
   "metadata": {},
   "outputs": [
    {
     "name": "stdout",
     "output_type": "stream",
     "text": [
      "length of unknows string is 138\n"
     ]
    }
   ],
   "source": [
    "print(f\"length of unknows string is {len(base64.b64decode(unknown_string))}\")"
   ]
  },
  {
   "cell_type": "code",
   "execution_count": 12,
   "metadata": {},
   "outputs": [
    {
     "data": {
      "text/plain": [
       "b'\\x8f/\\x016\\x9f'"
      ]
     },
     "execution_count": 12,
     "metadata": {},
     "output_type": "execute_result"
    }
   ],
   "source": [
    "## generate random bytes between 1 and 16\n",
    "# def generate_random_bytes():\n",
    "#     return secrets.token_bytes(secrets.randbelow(16)+1)\n",
    "\n",
    "secrets.token_bytes(secrets.randbelow(16)+1)"
   ]
  },
  {
   "cell_type": "code",
   "execution_count": 34,
   "metadata": {},
   "outputs": [],
   "source": [
    "# the new oracle\n",
    "def aes_128_ecb_append_harder(your_string, unkown_string, key):\n",
    "    prefix = b'\\x8f/\\x016\\x9f'\n",
    "    # key = b'dTP\\xdc\"\\xb8\\xa4\\x12\\xe3H\\xfc\\xd5zS\\x02\\xf2'\n",
    "    # unknown_string = \"Um9sbGluJyBpbiBteSA1LjAKV2l0aCBteSByYWctdG9wIGRvd24gc28gbXkgaGFpciBjYW4gYmxvdwpUaGUgZ2lybGllcyBvbiBzdGFuZGJ5IHdhdmluZyBqdXN0IHRvIHNheSBoaQpEaWQgeW91IHN0b3A/IE5vLCBJIGp1c3QgZHJvdmUgYnkK\"\n",
    "\n",
    "    \"\"\"\n",
    "    Append and Encryption oracle - appends your string to the unknown string and encrypts under ecb mode. Can be used as an encryption oracle.\n",
    "    \n",
    "    input: \"yourstring\" as python byte object\n",
    "    unkownstring(python bytes): \n",
    "    key: 16 byte(128 bit) python byte object\n",
    "\n",
    "    output: ciphertext\n",
    "    \"\"\"\n",
    "    #making the payload\n",
    "    \n",
    "    plaintext = prefix + your_string + unkown_string\n",
    "\n",
    "    #actual encryption oracle\n",
    "    plaintext = PKCS7_padding(plaintext, 16)\n",
    "    ciphertext = encrypt_aes_ecb(plaintext,key)\n",
    "    return ciphertext\n",
    "\n"
   ]
  },
  {
   "cell_type": "code",
   "execution_count": 30,
   "metadata": {},
   "outputs": [
    {
     "data": {
      "text/plain": [
       "\"b'\\\\x8f/\\\\x016\\\\x9f'Um9sbGluJyBpbiBteSA1LjAKV2l0aCBteSByYWctdG9wIGRvd24gc28gbXkgaGFpciBjYW4gYmxvdwpUaGUgZ2lybGllcyBvbiBzdGFuZGJ5IHdhdmluZyBqdXN0IHRvIHNheSBoaQpEaWQgeW91IHN0b3A/IE5vLCBJIGp1c3QgZHJvdmUgYnkK\""
      ]
     },
     "execution_count": 30,
     "metadata": {},
     "output_type": "execute_result"
    }
   ],
   "source": []
  },
  {
   "attachments": {},
   "cell_type": "markdown",
   "metadata": {},
   "source": [
    "### 1. Find the block length"
   ]
  },
  {
   "cell_type": "code",
   "execution_count": 3,
   "metadata": {},
   "outputs": [
    {
     "name": "stdout",
     "output_type": "stream",
     "text": [
      "The block length is 16\n"
     ]
    }
   ],
   "source": [
    "blocksize = detect_block_size(unknown_string, key) #1\n",
    "print(f\"The block length is {blocksize}\")"
   ]
  },
  {
   "attachments": {},
   "cell_type": "markdown",
   "metadata": {},
   "source": [
    "### 2. Find the prefix length"
   ]
  },
  {
   "cell_type": "code",
   "execution_count": 38,
   "metadata": {},
   "outputs": [
    {
     "data": {
      "text/plain": [
       "b'\\x18,~K\\xc7\\xbf}\\x16\\xd3g$*\\xddV\\xad\\xd7\\xfe7B\\x92\\xe1\\xc0\\xa5\\xf4\\xef\\x1bx\\x00\\x01\\x1b\\x07(\\x19\\xd6\\x90y\\x05\\xbbhjLU\\x86x\\x1d%\\xbd29\\x01\\xe0N^\\xc6)y\\xf5\\x95b\\xdeE\\xfd\\xa3\\x04\\x163\\x83+\\xf8\\x82\\xf1\\xeb\\\\\\xe3\\xe7\\xdc\\xd6w`\\x10\\xd7\\x88\\xde\\x1e\\xac\\x08}\\xf8dK\\r:\\xa2\\x1dT:<%\\xf8\\x9c\\xdb\\xb8s[\\xb5\\x8e\\xb4\\\\\\xda$\\xaa\\xa9\\x1e\\xe5\\xe2L\\ni[\\xc4w\\xbc\\x99\\x92\\xe9,\\xee.\\x14!,JV\\x1bK\\x193A5\\xce\\xa69 +e\\xf4_\\xf2\\x19\\xa6/[9\\xd0\\x83C\\xc1\\xca\\xd2\\x0f g\\xc1\\x8a\\xa5\\xc9\\x07\\xe6\\xc5\\xca\\xd9\\xd3\\xf0\\x0f\\x06\\xa1\\xc0\\x94\\xff-\\xa4\\xbd\\xfd\\x92\\x8b7\\xb8X\\xcb!\\x95\\xa4'"
      ]
     },
     "execution_count": 38,
     "metadata": {},
     "output_type": "execute_result"
    }
   ],
   "source": [
    "\n",
    "aes_128_ecb_append_harder(b'', unknown_string, key)"
   ]
  }
 ],
 "metadata": {
  "kernelspec": {
   "display_name": "Python 3",
   "language": "python",
   "name": "python3"
  },
  "language_info": {
   "codemirror_mode": {
    "name": "ipython",
    "version": 3
   },
   "file_extension": ".py",
   "mimetype": "text/x-python",
   "name": "python",
   "nbconvert_exporter": "python",
   "pygments_lexer": "ipython3",
   "version": "3.10.6"
  },
  "orig_nbformat": 4
 },
 "nbformat": 4,
 "nbformat_minor": 2
}
