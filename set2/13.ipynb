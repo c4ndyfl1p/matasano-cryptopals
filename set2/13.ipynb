{
 "cells": [
  {
   "attachments": {},
   "cell_type": "markdown",
   "metadata": {},
   "source": [
    "Write a k=v parsing routine, as if for a structured cookie. The routine should take:\n",
    "\n",
    "foo=bar&baz=qux&zap=zazzle\n",
    "\n",
    "... and produce:\n",
    "\n",
    "{\n",
    "  foo: 'bar',\n",
    "  baz: 'qux',\n",
    "  zap: 'zazzle'\n",
    "}\n"
   ]
  },
  {
   "cell_type": "code",
   "execution_count": 5,
   "metadata": {},
   "outputs": [
    {
     "name": "stdout",
     "output_type": "stream",
     "text": [
      "foo=bar\n",
      "baz=qux\n",
      "zap=zazzle\n",
      "{'foo': 'bar', 'baz': 'qux', 'zap': 'zazzle'}\n"
     ]
    }
   ],
   "source": [
    "string = \"foo=bar&baz=qux&zap=zazzle\"\n",
    "\n",
    "outString = {}\n",
    "\n",
    "for i in string.split(\"&\"):\n",
    "    print(i)\n",
    "    outString[i.split(\"=\")[0]] = i.split(\"=\")[1]\n",
    "\n",
    "print(outString)\n"
   ]
  },
  {
   "attachments": {},
   "cell_type": "markdown",
   "metadata": {},
   "source": [
    "Now write a function that encodes a user profile in that format, given an email address. You should have something like:\n",
    "\n",
    "profile_for(\"foo@bar.com\")\n",
    "... and it should produce:\n",
    "\n",
    "{\n",
    "  email: 'foo@bar.com',\n",
    "  uid: 10,\n",
    "  role: 'user'\n",
    "}\n",
    "... encoded as:\n",
    "\n",
    "email=foo@bar.com&uid=10&role=user"
   ]
  },
  {
   "cell_type": "code",
   "execution_count": 6,
   "metadata": {},
   "outputs": [],
   "source": [
    "def profile_for(email):\n",
    "    email = email.replace(\"&\", \"\")\n",
    "    email = email.replace(\"=\", \"\")\n",
    "    return \"email=\" + email + \"&uid=10&role=user\""
   ]
  },
  {
   "cell_type": "code",
   "execution_count": 7,
   "metadata": {},
   "outputs": [
    {
     "name": "stdout",
     "output_type": "stream",
     "text": [
      "email=foo.bar&uid=10&role=user\n"
     ]
    }
   ],
   "source": [
    "print(profile_for(\"foo.bar\"))"
   ]
  },
  {
   "attachments": {},
   "cell_type": "markdown",
   "metadata": {},
   "source": [
    "Your \"profile_for\" function should not allow encoding metacharacters (& and =). Eat them, quote them, whatever you want to do, but don't let people set their email address to \"foo@bar.com&role=admin\".\n",
    "\n",
    "Now, two more easy functions. Generate a random AES key, then:\n",
    "\n",
    "Encrypt the encoded user profile under the key; \"provide\" that to the \"attacker\".\n",
    "Decrypt the encoded user profile and parse it.\n",
    "Using only the user input to profile_for() (as an oracle to generate \"valid\" ciphertexts) and the ciphertexts themselves, make a role=admin profile"
   ]
  },
  {
   "cell_type": "code",
   "execution_count": null,
   "metadata": {},
   "outputs": [],
   "source": []
  }
 ],
 "metadata": {
  "kernelspec": {
   "display_name": "Python 3",
   "language": "python",
   "name": "python3"
  },
  "language_info": {
   "codemirror_mode": {
    "name": "ipython",
    "version": 3
   },
   "file_extension": ".py",
   "mimetype": "text/x-python",
   "name": "python",
   "nbconvert_exporter": "python",
   "pygments_lexer": "ipython3",
   "version": "3.10.6"
  },
  "orig_nbformat": 4
 },
 "nbformat": 4,
 "nbformat_minor": 2
}
