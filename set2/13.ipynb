{
 "cells": [
  {
   "attachments": {},
   "cell_type": "markdown",
   "metadata": {},
   "source": [
    "#  ECB cut-and-paste\n",
    "\n",
    "Write a k=v parsing routine, as if for a structured cookie. The routine should take:\n",
    "\n",
    "foo=bar&baz=qux&zap=zazzle\n",
    "\n",
    "... and produce:\n",
    "\n",
    "{\n",
    "  foo: 'bar',\n",
    "  baz: 'qux',\n",
    "  zap: 'zazzle'\n",
    "}\n"
   ]
  },
  {
   "cell_type": "code",
   "execution_count": 2,
   "metadata": {},
   "outputs": [
    {
     "name": "stdout",
     "output_type": "stream",
     "text": [
      "['/home/c4ndyp0p/sem6/matasano-cryptopals/set2', '/usr/lib/python310.zip', '/usr/lib/python3.10', '/usr/lib/python3.10/lib-dynload', '', '/home/c4ndyp0p/.local/lib/python3.10/site-packages', '/usr/local/lib/python3.10/dist-packages', '/usr/lib/python3/dist-packages']\n"
     ]
    }
   ],
   "source": [
    "import sys\n",
    "\n",
    "print(sys.path)"
   ]
  },
  {
   "cell_type": "code",
   "execution_count": 3,
   "metadata": {},
   "outputs": [],
   "source": [
    "from aes import *"
   ]
  },
  {
   "cell_type": "code",
   "execution_count": 4,
   "metadata": {},
   "outputs": [
    {
     "name": "stdout",
     "output_type": "stream",
     "text": [
      "foo=bar\n",
      "baz=qux\n",
      "zap=zazzle\n",
      "{'foo': 'bar', 'baz': 'qux', 'zap': 'zazzle'}\n"
     ]
    }
   ],
   "source": [
    "string = \"foo=bar&baz=qux&zap=zazzle\"\n",
    "\n",
    "outString = {}\n",
    "\n",
    "for i in string.split(\"&\"):\n",
    "    print(i)\n",
    "    outString[i.split(\"=\")[0]] = i.split(\"=\")[1]\n",
    "\n",
    "print(outString)\n"
   ]
  },
  {
   "attachments": {},
   "cell_type": "markdown",
   "metadata": {},
   "source": [
    "Now write a function that encodes a user profile in that format, given an email address. You should have something like:\n",
    "\n",
    "profile_for(\"foo@bar.com\")\n",
    "... and it should produce:\n",
    "\n",
    "{\n",
    "  email: 'foo@bar.com',\n",
    "  uid: 10,\n",
    "  role: 'user'\n",
    "}\n",
    "... encoded as:\n",
    "\n",
    "email=foo@bar.com&uid=10&role=user"
   ]
  },
  {
   "cell_type": "code",
   "execution_count": 5,
   "metadata": {},
   "outputs": [],
   "source": [
    "def profile_for(email):\n",
    "    email = email.replace(\"&\", \"\")\n",
    "    email = email.replace(\"=\", \"\")\n",
    "    return \"email=\" + email + \"&uid=10&role=user\""
   ]
  },
  {
   "cell_type": "code",
   "execution_count": 6,
   "metadata": {},
   "outputs": [
    {
     "name": "stdout",
     "output_type": "stream",
     "text": [
      "email=foo.bar&uid=10&role=user\n"
     ]
    }
   ],
   "source": [
    "user_profile = profile_for(\"foo.bar\")\n",
    "\n",
    "print(user_profile)"
   ]
  },
  {
   "attachments": {},
   "cell_type": "markdown",
   "metadata": {},
   "source": [
    "Your \"profile_for\" function should not allow encoding metacharacters (& and =). Eat them, quote them, whatever you want to do, but don't let people set their email address to \"foo@bar.com&role=admin\".\n",
    "\n",
    "Now, two more easy functions. Generate a random AES key, then:\n",
    "\n",
    "Encrypt the encoded user profile under the key; \"provide\" that to the \"attacker\".\n",
    "Decrypt the encoded user profile and parse it.\n",
    "Using only the user input to profile_for() (as an oracle to generate \"valid\" ciphertexts) and the ciphertexts themselves, make a role=admin profile"
   ]
  },
  {
   "cell_type": "code",
   "execution_count": null,
   "metadata": {},
   "outputs": [],
   "source": []
  },
  {
   "cell_type": "code",
   "execution_count": 7,
   "metadata": {},
   "outputs": [
    {
     "name": "stdout",
     "output_type": "stream",
     "text": [
      "b'email=foo.bar&uid=10&role=user\\x02\\x02'\n",
      "b'Ys\\xa0\\xbb\\x83\\xa6\\xce.\\xa3\\xa3\\xd9\\xb4E!\\xa4t\\x9c\\x1f\\x00\\x8a\\xd0_\\x04-\\x00\\x88.\\xaf\\x85\\x1f\\xd7\\x97'\n"
     ]
    }
   ],
   "source": [
    "# Generate a random AES key, then:\n",
    "\n",
    "# Encrypt the encoded user profile under the key; \"provide\" that to the \"attacker\".\n",
    "\n",
    "key = b'dTP\\xdc\"\\xb8\\xa4\\x12\\xe3H\\xfc\\xd5zS\\x02\\xf2'\n",
    "user_profile_bytes = PKCS7_padding(user_profile.encode(), 16)\n",
    "print(user_profile_bytes)\n",
    "\n",
    "encrypted_profile = encrypt_aes_ecb(user_profile_bytes, key)\n",
    "\n",
    "print(encrypted_profile)\n",
    "\n"
   ]
  },
  {
   "cell_type": "code",
   "execution_count": 8,
   "metadata": {},
   "outputs": [
    {
     "name": "stdout",
     "output_type": "stream",
     "text": [
      "b'email=foo.bar&uid=10&role=user\\x02\\x02'\n"
     ]
    }
   ],
   "source": [
    "# Decrypt the encoded user profile and parse it.\n",
    "\n",
    "decrypted_profile = decrypt_aes_ecb(encrypted_profile, key)\n",
    "print(decrypted_profile)\n",
    "\n",
    "\n",
    "\n",
    "# Using only the user input to profile_for() (as an oracle to generate \"valid\" ciphertexts) and the ciphertexts themselves, make a role=admin profile"
   ]
  },
  {
   "cell_type": "code",
   "execution_count": 12,
   "metadata": {},
   "outputs": [
    {
     "name": "stdout",
     "output_type": "stream",
     "text": [
      "b'email=foo@bar12.com&uid=10&role=user\\x0c\\x0c\\x0c\\x0c\\x0c\\x0c\\x0c\\x0c\\x0c\\x0c\\x0c\\x0c'\n",
      "b'\\xae\\x01}\\xd2M\\x94\\\\\\xf0\\xde\\xc5\\xb9\\x83\\x86\\xd4K\\x1b\\xcf\\xdb\\x8eT;-C\\xceJ\\xb7\\x98\\x19P\\x12}\\xe3,\\xf7<Y\\xcf\\xec\\xe4\\x93\\x03+\\xab%\\xfbN\\x12\\xaf'\n",
      "[b'\\xae\\x01}\\xd2M\\x94\\\\\\xf0\\xde\\xc5\\xb9\\x83\\x86\\xd4K\\x1b', b'\\xcf\\xdb\\x8eT;-C\\xceJ\\xb7\\x98\\x19P\\x12}\\xe3']\n"
     ]
    }
   ],
   "source": [
    "# 1. get ct of \"email=foo@bar12.\" \"com&uid=10&role=\" \"user____________\"\n",
    "# save ct 1 and ct 2\n",
    "\n",
    "final_ct = []\n",
    "\n",
    "profile_1 = profile_for(\"foo@bar12.com\")\n",
    "profile_1_bytes = PKCS7_padding(profile_1.encode(), 16)\n",
    "print(profile_1_bytes)\n",
    "\n",
    "encrypted_profile_1 = encrypt_aes_ecb(profile_1_bytes, key)\n",
    "\n",
    "print(encrypted_profile_1)\n",
    "\n",
    "ct_1 = get_blocks_in_list(encrypted_profile_1, 16)\n",
    "final_ct.append(ct_1[0])\n",
    "final_ct.append(ct_1[1])\n",
    "\n",
    "print(final_ct)"
   ]
  },
  {
   "cell_type": "code",
   "execution_count": 19,
   "metadata": {},
   "outputs": [
    {
     "name": "stdout",
     "output_type": "stream",
     "text": [
      "b'admin\\x0b\\x0b\\x0b\\x0b\\x0b\\x0b\\x0b\\x0b\\x0b\\x0b\\x0b'\n",
      "[b'email=foo@bar12.', b'admin\\x0b\\x0b\\x0b\\x0b\\x0b\\x0b\\x0b\\x0b\\x0b\\x0b\\x0b', b'&uid=10&role=use', b'r\\x0f\\x0f\\x0f\\x0f\\x0f\\x0f\\x0f\\x0f\\x0f\\x0f\\x0f\\x0f\\x0f\\x0f\\x0f']\n"
     ]
    }
   ],
   "source": [
    "# get ct of \"admin____________\"\n",
    "\n",
    "payload1 = PKCS7_padding(\"admin\".encode(), 16)\n",
    "print(payload1)\n",
    "\n",
    "profile_2 = profile_for(\"foo@bar12.admin\\x0b\\x0b\\x0b\\x0b\\x0b\\x0b\\x0b\\x0b\\x0b\\x0b\\x0b\")\n",
    "profile_2_bytes = PKCS7_padding(profile_2.encode(), 16)\n",
    "print(get_blocks_in_list(profile_2_bytes, 16))\n",
    "\n",
    "encrypted_profile_2 = encrypt_aes_ecb(profile_2_bytes, key)\n",
    "final_ct.append(get_blocks_in_list(encrypted_profile_2, 16)[1])"
   ]
  },
  {
   "cell_type": "code",
   "execution_count": 20,
   "metadata": {},
   "outputs": [
    {
     "name": "stdout",
     "output_type": "stream",
     "text": [
      "[b'\\xae\\x01}\\xd2M\\x94\\\\\\xf0\\xde\\xc5\\xb9\\x83\\x86\\xd4K\\x1b', b'\\xcf\\xdb\\x8eT;-C\\xceJ\\xb7\\x98\\x19P\\x12}\\xe3', b\"\\xdd\\xdb\\x15\\x80\\x88\\xfdY\\x03aP'\\xad\\xfc\\xcd\\x0e\\xd8\"]\n"
     ]
    }
   ],
   "source": [
    "print(final_ct)"
   ]
  },
  {
   "cell_type": "code",
   "execution_count": 22,
   "metadata": {},
   "outputs": [
    {
     "name": "stdout",
     "output_type": "stream",
     "text": [
      "b'email=foo@bar12.com&uid=10&role=admin\\x0b\\x0b\\x0b\\x0b\\x0b\\x0b\\x0b\\x0b\\x0b\\x0b\\x0b'\n"
     ]
    }
   ],
   "source": [
    "#verify\n",
    "\n",
    "final_ct_check = bytearray(final_ct[0] + final_ct[1] + final_ct[2])\n",
    "\n",
    "print(decrypt_aes_ecb(final_ct_check, key))"
   ]
  }
 ],
 "metadata": {
  "kernelspec": {
   "display_name": "Python 3",
   "language": "python",
   "name": "python3"
  },
  "language_info": {
   "codemirror_mode": {
    "name": "ipython",
    "version": 3
   },
   "file_extension": ".py",
   "mimetype": "text/x-python",
   "name": "python",
   "nbconvert_exporter": "python",
   "pygments_lexer": "ipython3",
   "version": "3.10.6"
  },
  "orig_nbformat": 4
 },
 "nbformat": 4,
 "nbformat_minor": 2
}
