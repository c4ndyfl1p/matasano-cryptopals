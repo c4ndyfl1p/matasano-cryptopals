{
 "cells": [
  {
   "cell_type": "code",
   "execution_count": 1,
   "metadata": {},
   "outputs": [
    {
     "data": {
      "text/plain": [
       "b\"I'm killing your brain like a poisonous mushroom\""
      ]
     },
     "execution_count": 1,
     "metadata": {},
     "output_type": "execute_result"
    }
   ],
   "source": [
    "import binascii\n",
    "text = \"49276d206b696c6c696e6720796f757220627261696e206c696b65206120706f69736f6e6f7573206d757368726f6f6d\"\n",
    "\n",
    "test2 = binascii.unhexlify(text)\n",
    "test2"
   ]
  },
  {
   "cell_type": "code",
   "execution_count": 2,
   "metadata": {},
   "outputs": [
    {
     "data": {
      "text/plain": [
       "b\"Rollin' in my 5.0\\nWith my rag-top down so my hair can blow\\nThe girlies on standby waving just to say hi\\nDid you stop? No, I just drove by\\n\""
      ]
     },
     "execution_count": 2,
     "metadata": {},
     "output_type": "execute_result"
    }
   ],
   "source": [
    "import base64\n",
    "\n",
    "base64.b64decode(\"Um9sbGluJyBpbiBteSA1LjAKV2l0aCBteSByYWctdG9wIGRvd24gc28gbXkgaGFpciBjYW4gYmxvdwpUaGUgZ2lybGllcyBvbiBzdGFuZGJ5IHdhdmluZyBqdXN0IHRvIHNheSBoaQpEaWQgeW91IHN0b3A/IE5vLCBJIGp1c3QgZHJvdmUgYnkK\")"
   ]
  },
  {
   "cell_type": "code",
   "execution_count": 5,
   "metadata": {},
   "outputs": [
    {
     "name": "stdout",
     "output_type": "stream",
     "text": [
      "11111111\n",
      "ff\n",
      "377\n"
     ]
    }
   ],
   "source": [
    "a_byte = b'\\xff'  # 255\n",
    "i = ord(a_byte)\n",
    "i = int.from_bytes(a_byte,\"big\")\n",
    "# i = int(a_byte)   # Get the integer value of the byte\n",
    "\n",
    "bin = \"{0:b}\".format(i) # binary: 11111111\n",
    "hex = \"{0:x}\".format(i) # hexadecimal: ff\n",
    "oct = \"{0:o}\".format(i) # octal: 377\n",
    "\n",
    "print(bin)\n",
    "print(hex)\n",
    "print(oct)"
   ]
  },
  {
   "cell_type": "code",
   "execution_count": 51,
   "metadata": {},
   "outputs": [
    {
     "data": {
      "text/plain": [
       "b\"I'm killing your brain like a poisonous mushroom\""
      ]
     },
     "execution_count": 51,
     "metadata": {},
     "output_type": "execute_result"
    }
   ],
   "source": [
    "text = \"49276d206b696c6c696e6720796f757220627261696e206c696b65206120706f69736f6e6f7573206d757368726f6f6d\"\n",
    "\n",
    "a = bytes.fromhex(text)\n",
    "a"
   ]
  },
  {
   "cell_type": "markdown",
   "metadata": {},
   "source": [
    "bytes.fromhex(\"49276d\") gives same output as binascii.unhexlify(\"49276d\")"
   ]
  },
  {
   "cell_type": "code",
   "execution_count": 55,
   "metadata": {},
   "outputs": [
    {
     "data": {
      "text/plain": [
       "73"
      ]
     },
     "execution_count": 55,
     "metadata": {},
     "output_type": "execute_result"
    }
   ],
   "source": [
    "#works only on  single character\n",
    "ord(b\"I\") #converts bytes(ascii bytes) to integer characters\n"
   ]
  },
  {
   "cell_type": "code",
   "execution_count": 56,
   "metadata": {},
   "outputs": [
    {
     "data": {
      "text/plain": [
       "[73,\n",
       " 39,\n",
       " 109,\n",
       " 32,\n",
       " 107,\n",
       " 105,\n",
       " 108,\n",
       " 108,\n",
       " 105,\n",
       " 110,\n",
       " 103,\n",
       " 32,\n",
       " 121,\n",
       " 111,\n",
       " 117,\n",
       " 114,\n",
       " 32,\n",
       " 98,\n",
       " 114,\n",
       " 97,\n",
       " 105,\n",
       " 110,\n",
       " 32,\n",
       " 108,\n",
       " 105,\n",
       " 107,\n",
       " 101,\n",
       " 32,\n",
       " 97,\n",
       " 32,\n",
       " 112,\n",
       " 111,\n",
       " 105,\n",
       " 115,\n",
       " 111,\n",
       " 110,\n",
       " 111,\n",
       " 117,\n",
       " 115,\n",
       " 32,\n",
       " 109,\n",
       " 117,\n",
       " 115,\n",
       " 104,\n",
       " 114,\n",
       " 111,\n",
       " 111,\n",
       " 109]"
      ]
     },
     "execution_count": 56,
     "metadata": {},
     "output_type": "execute_result"
    }
   ],
   "source": [
    "#to convert all bytes into a list of corrosponding integers use this\n",
    "list(a) "
   ]
  },
  {
   "cell_type": "code",
   "execution_count": 25,
   "metadata": {},
   "outputs": [
    {
     "data": {
      "text/plain": [
       "b'\\x7f\\x7f'"
      ]
     },
     "execution_count": 25,
     "metadata": {},
     "output_type": "execute_result"
    }
   ],
   "source": [
    "bytes.fromhex(\"7F 7F\")"
   ]
  },
  {
   "cell_type": "markdown",
   "metadata": {},
   "source": [
    "ASCII is 8bits ot 1byte. Every byte has a corrosponding ascii.\n",
    "bytes.fromhex() displays in ASCII\n",
    "\n",
    "think of python bytes as ascii. use it for ascii compatible binary data, otherwise it may lead to corruption"
   ]
  },
  {
   "cell_type": "code",
   "execution_count": 30,
   "metadata": {},
   "outputs": [
    {
     "data": {
      "text/plain": [
       "'41 41'"
      ]
     },
     "execution_count": 30,
     "metadata": {},
     "output_type": "execute_result"
    }
   ],
   "source": [
    "b'AA'.hex(\" \")"
   ]
  },
  {
   "cell_type": "code",
   "execution_count": 36,
   "metadata": {},
   "outputs": [
    {
     "data": {
      "text/plain": [
       "bytearray(b' ')"
      ]
     },
     "execution_count": 36,
     "metadata": {},
     "output_type": "execute_result"
    }
   ],
   "source": [
    "bytearray.fromhex('20')"
   ]
  },
  {
   "cell_type": "code",
   "execution_count": 37,
   "metadata": {},
   "outputs": [
    {
     "data": {
      "text/plain": [
       "'f0'"
      ]
     },
     "execution_count": 37,
     "metadata": {},
     "output_type": "execute_result"
    }
   ],
   "source": [
    "bytearray(b\"\\xf0\").hex()"
   ]
  },
  {
   "cell_type": "code",
   "execution_count": 42,
   "metadata": {},
   "outputs": [
    {
     "data": {
      "text/plain": [
       "bytearray(b'4927')"
      ]
     },
     "execution_count": 42,
     "metadata": {},
     "output_type": "execute_result"
    }
   ],
   "source": [
    "bytearray(b'4927')"
   ]
  },
  {
   "cell_type": "code",
   "execution_count": 22,
   "metadata": {},
   "outputs": [
    {
     "name": "stdout",
     "output_type": "stream",
     "text": [
      "b'\\x8a\\x10$\\x7f\\x90\\xd0\\xa0U8\\x88\\x8a\\xd6 X\\x82\\x19o_m\\x05\\xc2\\x1e\\xc8\\xdc\\xa0\\xcb\\x0b\\xe0,?\\x8b\\t\\xe3\\x82\\x96?D:\\xa5\\x14\\xda\\xa5\\x01%{\\t\\xa3k\\xf8\\xc4\\xc3\\x92\\xd8\\xca\\x1b\\xf49_\\r_%B\\x14\\x8c~_\\xf2\"7\\x96\\x98t\\xbff\\xcb\\x855~\\xf9\\x99V\\xac\\xcf\\x13\\xba\\x1a\\xf3l\\xa7\\xa9\\x1aPS<M\\x89\\xb75?\\x90\\x8cZ\\x16gt);\\x0b\\xf6$s\\x91\\xdfi\\xc8}\\xac\\xc4\\x12Z\\x99\\xecAr!\\xb5\\x81p\\xe638\\x1e8G\\xc6\\xb1\\xc2\\x8d\\xda)\\x13\\xc0\\x11\\xe1?\\xc4@o\\x8f\\xe7;\\xbfx\\xe8\\x03\\xe1\\xd9\\x95\\xceM'\n",
      "320 160\n"
     ]
    }
   ],
   "source": [
    "a = \"8a10247f90d0a05538888ad6205882196f5f6d05c21ec8dca0cb0be02c3f8b09e382963f443aa514daa501257b09a36bf8c4c392d8ca1bf4395f0d5f2542148c7e5ff22237969874bf66cb85357ef99956accf13ba1af36ca7a91a50533c4d89b7353f908c5a166774293b0bf6247391df69c87dacc4125a99ec417221b58170e633381e3847c6b1c28dda2913c011e13fc4406f8fe73bbf78e803e1d995ce4d\"\n",
    "b = bytes.fromhex(a)\n",
    "print(b)\n",
    "print(len(a), len(b))"
   ]
  },
  {
   "cell_type": "code",
   "execution_count": 24,
   "metadata": {},
   "outputs": [
    {
     "name": "stdout",
     "output_type": "stream",
     "text": [
      "['abcd', 'ag', 'abcd', 'ag'] [0, 3, 4, 5]\n"
     ]
    },
    {
     "data": {
      "text/plain": [
       "0"
      ]
     },
     "execution_count": 24,
     "metadata": {},
     "output_type": "execute_result"
    }
   ],
   "source": [
    "block = [\"abcd\", \"jdska\", \"fnjew\",\"ag\", \"abcd\", \"ag\"]\n",
    "unique = set(block)\n",
    "\n",
    "# non_uniques = [value for i,value in enumerate(block) if block.count(i)>1]\n",
    "non_uniques = []\n",
    "non_uniques_indices = []\n",
    "for i, value in enumerate(block):\n",
    "    if block.count(value)>1:\n",
    "        non_uniques.append(value)\n",
    "        non_uniques_indices.append(i)\n",
    "\n",
    "\n",
    "print(non_uniques, non_uniques_indices)\n",
    "\n",
    "block.index(\"abcd\")"
   ]
  },
  {
   "cell_type": "code",
   "execution_count": 32,
   "metadata": {},
   "outputs": [
    {
     "data": {
      "text/plain": [
       "0"
      ]
     },
     "execution_count": 32,
     "metadata": {},
     "output_type": "execute_result"
    }
   ],
   "source": [
    "block = [1,2,3,10]\n",
    "block.index(min(block))"
   ]
  },
  {
   "cell_type": "code",
   "execution_count": 39,
   "metadata": {},
   "outputs": [
    {
     "data": {
      "text/plain": [
       "'\\x04'"
      ]
     },
     "execution_count": 39,
     "metadata": {},
     "output_type": "execute_result"
    }
   ],
   "source": [
    "chr(4)"
   ]
  },
  {
   "cell_type": "code",
   "execution_count": 189,
   "metadata": {},
   "outputs": [
    {
     "data": {
      "text/plain": [
       "bytearray(b'-a9\\xd7\\x1a\\x86\\xa8b\\xed\\xae\\xa9\\x13x(\\xf31')"
      ]
     },
     "execution_count": 189,
     "metadata": {},
     "output_type": "execute_result"
    }
   ],
   "source": [
    "import secrets\n",
    "key = bytearray(secrets.token_bytes(16))\n",
    "key"
   ]
  },
  {
   "cell_type": "code",
   "execution_count": 192,
   "metadata": {},
   "outputs": [
    {
     "name": "stdout",
     "output_type": "stream",
     "text": [
      "8\n"
     ]
    },
    {
     "data": {
      "text/plain": [
       "b'\\xb8\\x9f\\xb5w0\\x0c\\xb6\\xa8-a9\\xd7\\x1a\\x86\\xa8b\\xed\\xae\\xa9\\x13x(\\xf31\\xc9\\xd8l\\xc0 \\xe6\\xef\\x1e\\x1b\\x84'"
      ]
     },
     "execution_count": 192,
     "metadata": {},
     "output_type": "execute_result"
    }
   ],
   "source": [
    "a= secrets.choice([5,6,7,8,9,10])\n",
    "print(a)\n",
    "random_bytes1 = secrets.token_bytes(secrets.choice([5,6,7,8,9,10]))\n",
    "random_bytes2 = secrets.token_bytes(secrets.choice([5,6,7,8,9,10]))\n",
    "\n",
    "pt = random_bytes1 + key + random_bytes2\n",
    "pt"
   ]
  },
  {
   "cell_type": "code",
   "execution_count": 184,
   "metadata": {},
   "outputs": [
    {
     "data": {
      "text/plain": [
       "12594"
      ]
     },
     "execution_count": 184,
     "metadata": {},
     "output_type": "execute_result"
    }
   ],
   "source": [
    "a = bytearray(b'12')\n",
    "int.from_bytes(a,'big')"
   ]
  },
  {
   "cell_type": "code",
   "execution_count": 194,
   "metadata": {},
   "outputs": [
    {
     "ename": "AttributeError",
     "evalue": "module 'random' has no attribute 'rand'",
     "output_type": "error",
     "traceback": [
      "\u001b[0;31m---------------------------------------------------------------------------\u001b[0m",
      "\u001b[0;31mAttributeError\u001b[0m                            Traceback (most recent call last)",
      "\u001b[0;32m/tmp/ipykernel_53174/605144377.py\u001b[0m in \u001b[0;36m<module>\u001b[0;34m\u001b[0m\n\u001b[1;32m      1\u001b[0m \u001b[0;32mimport\u001b[0m \u001b[0mrandom\u001b[0m\u001b[0;34m\u001b[0m\u001b[0;34m\u001b[0m\u001b[0m\n\u001b[0;32m----> 2\u001b[0;31m \u001b[0mrandom\u001b[0m\u001b[0;34m.\u001b[0m\u001b[0mrand\u001b[0m\u001b[0;34m(\u001b[0m\u001b[0;36m2\u001b[0m\u001b[0;34m)\u001b[0m\u001b[0;34m\u001b[0m\u001b[0;34m\u001b[0m\u001b[0m\n\u001b[0m",
      "\u001b[0;31mAttributeError\u001b[0m: module 'random' has no attribute 'rand'"
     ]
    }
   ],
   "source": [
    "import random\n",
    "random.rand(2)"
   ]
  },
  {
   "cell_type": "code",
   "execution_count": 228,
   "metadata": {},
   "outputs": [],
   "source": [
    "def a():\n",
    "    print(a)\n",
    "\n",
    "def b():\n",
    "    print (b)\n",
    "\n",
    "res = secrets.randbelow(1)\n",
    "\n"
   ]
  },
  {
   "cell_type": "code",
   "execution_count": 2,
   "metadata": {},
   "outputs": [
    {
     "data": {
      "text/plain": [
       "b'abjkdbjkwfe'"
      ]
     },
     "execution_count": 2,
     "metadata": {},
     "output_type": "execute_result"
    }
   ],
   "source": [
    "a = \"abjkdbjkwfe\"\n",
    "bytes(a, 'utf-8')"
   ]
  },
  {
   "cell_type": "code",
   "execution_count": 14,
   "metadata": {},
   "outputs": [
    {
     "name": "stdout",
     "output_type": "stream",
     "text": [
      "b'ag121234'\n",
      "<class 'bytes'>\n",
      "bytearray(b\"1234afRollin\\' in my 5.0\\nWith my rag-top down so my hair can blow\\nThe girlies on standby waving just to say hi\\nDid you stop? No, I just drove by\\n\")\n"
     ]
    },
    {
     "data": {
      "text/plain": [
       "bytearray"
      ]
     },
     "execution_count": 14,
     "metadata": {},
     "output_type": "execute_result"
    }
   ],
   "source": [
    "import base64\n",
    "a = bytearray(base64.b64decode(\"Um9sbGluJyBpbiBteSA1LjAKV2l0aCBteSByYWctdG9wIGRvd24gc28gbXkgaGFpciBjYW4gYmxvdwpUaGUgZ2lybGllcyBvbiBzdGFuZGJ5IHdhdmluZyBqdXN0IHRvIHNheSBoaQpEaWQgeW91IHN0b3A/IE5vLCBJIGp1c3QgZHJvdmUgYnkK\"))\n",
    "\n",
    "b = bytearray(b'1234af')\n",
    "c = b + a\n",
    "\n",
    "d = b'ag12'\n",
    "e = b'1234'\n",
    "f = d + e\n",
    "print(f)\n",
    "print(type(f))\n",
    "print(c)\n",
    "type(bytearray(a))"
   ]
  },
  {
   "cell_type": "code",
   "execution_count": 23,
   "metadata": {},
   "outputs": [
    {
     "data": {
      "text/plain": [
       "b'dTP\\xdc\"\\xb8\\xa4\\x12\\xe3H\\xfc\\xd5zS\\x02\\xf2'"
      ]
     },
     "execution_count": 23,
     "metadata": {},
     "output_type": "execute_result"
    }
   ],
   "source": [
    "import secrets\n",
    "secrets.token_bytes(16)"
   ]
  }
 ],
 "metadata": {
  "interpreter": {
   "hash": "916dbcbb3f70747c44a77c7bcd40155683ae19c65e1c03b4aa3499c5328201f1"
  },
  "kernelspec": {
   "display_name": "Python 3.9.5 64-bit",
   "language": "python",
   "name": "python3"
  },
  "language_info": {
   "codemirror_mode": {
    "name": "ipython",
    "version": 3
   },
   "file_extension": ".py",
   "mimetype": "text/x-python",
   "name": "python",
   "nbconvert_exporter": "python",
   "pygments_lexer": "ipython3",
   "version": "3.9.5"
  },
  "orig_nbformat": 4
 },
 "nbformat": 4,
 "nbformat_minor": 2
}
