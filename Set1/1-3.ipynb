{
 "cells": [
  {
   "cell_type": "code",
   "execution_count": 3,
   "id": "civic-fortune",
   "metadata": {},
   "outputs": [
    {
     "name": "stdout",
     "output_type": "stream",
     "text": [
      "68\n"
     ]
    }
   ],
   "source": [
    "ct = \"1b37373331363f78151b7f2b783431333d78397828372d363c78373e783a393b3736\"\n",
    "print(len(ct))"
   ]
  },
  {
   "cell_type": "code",
   "execution_count": 4,
   "id": "recovered-story",
   "metadata": {},
   "outputs": [
    {
     "name": "stdout",
     "output_type": "stream",
     "text": [
      "269\n",
      "806748453371902409051174291875458592743800337585421566549206796642836053682239286\n",
      "81\n"
     ]
    }
   ],
   "source": [
    "#wrong way\n",
    "#convert to a list of 4 bit binary \n",
    "\n",
    "bin_ct =  bin(int(ct, base=16))[2:]\n",
    "print(len(bin_ct))\n",
    "\n",
    "int_ct = str(int(ct, base=16))\n",
    "print(int_ct)\n",
    "print(len(int_ct))"
   ]
  },
  {
   "cell_type": "markdown",
   "id": "municipal-kazakhstan",
   "metadata": {},
   "source": [
    "Notice the difference between this and the next cell. This happened because you need to take into account what bit-length is the encoding. It is extremely important to to think of every representation like that."
   ]
  },
  {
   "cell_type": "code",
   "execution_count": 65,
   "id": "novel-notice",
   "metadata": {},
   "outputs": [
    {
     "name": "stdout",
     "output_type": "stream",
     "text": [
      "[1, 11, 3, 7, 3, 7, 3, 3, 3, 1, 3, 6, 3, 15, 7, 8, 1, 5, 1, 11, 7, 15, 2, 11, 7, 8, 3, 4, 3, 1, 3, 3, 3, 13, 7, 8, 3, 9, 7, 8, 2, 8, 3, 7, 2, 13, 3, 6, 3, 12, 7, 8, 3, 7, 3, 14, 7, 8, 3, 10, 3, 9, 3, 11, 3, 7, 3, 6]\n",
      "['0b1', '0b1011', '0b11', '0b111', '0b11', '0b111', '0b11', '0b11', '0b11', '0b1', '0b11', '0b110', '0b11', '0b1111', '0b111', '0b1000', '0b1', '0b101', '0b1', '0b1011', '0b111', '0b1111', '0b10', '0b1011', '0b111', '0b1000', '0b11', '0b100', '0b11', '0b1', '0b11', '0b11', '0b11', '0b1101', '0b111', '0b1000', '0b11', '0b1001', '0b111', '0b1000', '0b10', '0b1000', '0b11', '0b111', '0b10', '0b1101', '0b11', '0b110', '0b11', '0b1100', '0b111', '0b1000', '0b11', '0b111', '0b11', '0b1110', '0b111', '0b1000', '0b11', '0b1010', '0b11', '0b1001', '0b11', '0b1011', '0b11', '0b111', '0b11', '0b110']\n",
      "['0001', '1011', '0011', '0111', '0011', '0111', '0011', '0011', '0011', '0001', '0011', '0110', '0011', '1111', '0111', '1000', '0001', '0101', '0001', '1011', '0111', '1111', '0010', '1011', '0111', '1000', '0011', '0100', '0011', '0001', '0011', '0011', '0011', '1101', '0111', '1000', '0011', '1001', '0111', '1000', '0010', '1000', '0011', '0111', '0010', '1101', '0011', '0110', '0011', '1100', '0111', '1000', '0011', '0111', '0011', '1110', '0111', '1000', '0011', '1010', '0011', '1001', '0011', '1011', '0011', '0111', '0011', '0110']\n",
      "<class 'int'>\n"
     ]
    }
   ],
   "source": [
    "int_ct = [int(i, base=16) for i in ct]\n",
    "print(int_ct)\n",
    "\n",
    "bin_ct = [bin(i) for i in int_ct]\n",
    "print(bin_ct)\n",
    "\n",
    "bin_ct = [i[2:].zfill(4) for i in bin_ct]\n",
    "print(bin_ct)\n",
    "print(type(len(bin_ct)))"
   ]
  },
  {
   "cell_type": "code",
   "execution_count": 84,
   "id": "invisible-ideal",
   "metadata": {},
   "outputs": [
    {
     "name": "stdout",
     "output_type": "stream",
     "text": [
      "34\n",
      "00011011 00110111 00110111 00110011 00110001 00110110 00111111 01111000 00010101 00011011 01111111 00101011 01111000 00110100 00110001 00110011 00111101 01111000 00111001 01111000 00101000 00110111 00101101 00110110 00111100 01111000 00110111 00111110 01111000 00111010 00111001 00111011 00110111 00110110\n"
     ]
    }
   ],
   "source": [
    "#comibine 2 indices to be a 8 bit binary ind\n",
    "n = int(len(bin_ct)/2)\n",
    "print(n)\n",
    "\n",
    "bin_ct2 = [None]*n\n",
    "\n",
    "for i in range(0, n, 1):\n",
    "    bin_ct2[i] = bin_ct[2*i] + bin_ct[(2*i) + 1]\n",
    "#     print(*bin_ct)\n",
    "#     bin_ct2[i] = bin_ct[i] + bin_ct[i+1]\n",
    "print(*bin_ct2)\n",
    "    \n",
    "# bin_ct2[i] = bin_ct[i]+ bin_ct[i+1]"
   ]
  },
  {
   "cell_type": "markdown",
   "id": "competitive-sally",
   "metadata": {},
   "source": [
    "### A bit on ASCII(source: wikipedia)\n",
    "\n",
    "The committee considered an eight-bit code, since eight bits (octets) would allow two four-bit patterns to efficiently encode two digits with binary-coded decimal. However, it would require all data transmission to send eight bits when seven could suffice.\n",
    "Eight-bit machines (with octets as the native data type) that did not use parity checking typically set the eighth bit to 0\n",
    "\n",
    "ASCII reserves the first 32 codes (numbers 0–31 decimal) for control characters: codes originally intended not to represent printable information, but rather to control devices (such as printers) that make use of ASCII, or to provide meta-information about data streams such as those stored on magnetic tape\n",
    "\n",
    "Codes 20(hex)/32(decimal) to 7E(hex)/126(decimal), known as the printable characters, represent letters, digits, punctuation marks, and a few miscellaneous symbols. There are 95 printable characters in total"
   ]
  },
  {
   "cell_type": "code",
   "execution_count": 74,
   "id": "exotic-briefing",
   "metadata": {},
   "outputs": [
    {
     "data": {
      "text/plain": [
       "65"
      ]
     },
     "execution_count": 74,
     "metadata": {},
     "output_type": "execute_result"
    }
   ],
   "source": [
    "ord(\"A\")"
   ]
  },
  {
   "cell_type": "code",
   "execution_count": 85,
   "id": "incorrect-jones",
   "metadata": {},
   "outputs": [
    {
     "name": "stdout",
     "output_type": "stream",
     "text": [
      "(';\\x17\\x17\\x13\\x11\\x16\\x1fX5;_\\x0bX\\x14\\x11\\x13\\x1dX\\x19X\\x08\\x17\\r\\x16\\x1cX\\x17\\x1eX\\x1a\\x19\\x1b\\x17\\x16', ' ')\n",
      "(':\\x16\\x16\\x12\\x10\\x17\\x1eY4:^\\nY\\x15\\x10\\x12\\x1cY\\x18Y\\t\\x16\\x0c\\x17\\x1dY\\x16\\x1fY\\x1b\\x18\\x1a\\x16\\x17', '!')\n",
      "('9\\x15\\x15\\x11\\x13\\x14\\x1dZ79]\\tZ\\x16\\x13\\x11\\x1fZ\\x1bZ\\n\\x15\\x0f\\x14\\x1eZ\\x15\\x1cZ\\x18\\x1b\\x19\\x15\\x14', '\"')\n",
      "('8\\x14\\x14\\x10\\x12\\x15\\x1c[68\\\\\\x08[\\x17\\x12\\x10\\x1e[\\x1a[\\x0b\\x14\\x0e\\x15\\x1f[\\x14\\x1d[\\x19\\x1a\\x18\\x14\\x15', '#')\n",
      "('?\\x13\\x13\\x17\\x15\\x12\\x1b\\\\1?[\\x0f\\\\\\x10\\x15\\x17\\x19\\\\\\x1d\\\\\\x0c\\x13\\t\\x12\\x18\\\\\\x13\\x1a\\\\\\x1e\\x1d\\x1f\\x13\\x12', '$')\n",
      "('>\\x12\\x12\\x16\\x14\\x13\\x1a]0>Z\\x0e]\\x11\\x14\\x16\\x18]\\x1c]\\r\\x12\\x08\\x13\\x19]\\x12\\x1b]\\x1f\\x1c\\x1e\\x12\\x13', '%')\n",
      "('=\\x11\\x11\\x15\\x17\\x10\\x19^3=Y\\r^\\x12\\x17\\x15\\x1b^\\x1f^\\x0e\\x11\\x0b\\x10\\x1a^\\x11\\x18^\\x1c\\x1f\\x1d\\x11\\x10', '&')\n",
      "('<\\x10\\x10\\x14\\x16\\x11\\x18_2<X\\x0c_\\x13\\x16\\x14\\x1a_\\x1e_\\x0f\\x10\\n\\x11\\x1b_\\x10\\x19_\\x1d\\x1e\\x1c\\x10\\x11', \"'\")\n",
      "('3\\x1f\\x1f\\x1b\\x19\\x1e\\x17P=3W\\x03P\\x1c\\x19\\x1b\\x15P\\x11P\\x00\\x1f\\x05\\x1e\\x14P\\x1f\\x16P\\x12\\x11\\x13\\x1f\\x1e', '(')\n",
      "('2\\x1e\\x1e\\x1a\\x18\\x1f\\x16Q<2V\\x02Q\\x1d\\x18\\x1a\\x14Q\\x10Q\\x01\\x1e\\x04\\x1f\\x15Q\\x1e\\x17Q\\x13\\x10\\x12\\x1e\\x1f', ')')\n",
      "('1\\x1d\\x1d\\x19\\x1b\\x1c\\x15R?1U\\x01R\\x1e\\x1b\\x19\\x17R\\x13R\\x02\\x1d\\x07\\x1c\\x16R\\x1d\\x14R\\x10\\x13\\x11\\x1d\\x1c', '*')\n",
      "('0\\x1c\\x1c\\x18\\x1a\\x1d\\x14S>0T\\x00S\\x1f\\x1a\\x18\\x16S\\x12S\\x03\\x1c\\x06\\x1d\\x17S\\x1c\\x15S\\x11\\x12\\x10\\x1c\\x1d', '+')\n",
      "('7\\x1b\\x1b\\x1f\\x1d\\x1a\\x13T97S\\x07T\\x18\\x1d\\x1f\\x11T\\x15T\\x04\\x1b\\x01\\x1a\\x10T\\x1b\\x12T\\x16\\x15\\x17\\x1b\\x1a', ',')\n",
      "('6\\x1a\\x1a\\x1e\\x1c\\x1b\\x12U86R\\x06U\\x19\\x1c\\x1e\\x10U\\x14U\\x05\\x1a\\x00\\x1b\\x11U\\x1a\\x13U\\x17\\x14\\x16\\x1a\\x1b', '-')\n",
      "('5\\x19\\x19\\x1d\\x1f\\x18\\x11V;5Q\\x05V\\x1a\\x1f\\x1d\\x13V\\x17V\\x06\\x19\\x03\\x18\\x12V\\x19\\x10V\\x14\\x17\\x15\\x19\\x18', '.')\n",
      "('4\\x18\\x18\\x1c\\x1e\\x19\\x10W:4P\\x04W\\x1b\\x1e\\x1c\\x12W\\x16W\\x07\\x18\\x02\\x19\\x13W\\x18\\x11W\\x15\\x16\\x14\\x18\\x19', '/')\n",
      "('+\\x07\\x07\\x03\\x01\\x06\\x0fH%+O\\x1bH\\x04\\x01\\x03\\rH\\tH\\x18\\x07\\x1d\\x06\\x0cH\\x07\\x0eH\\n\\t\\x0b\\x07\\x06', '0')\n",
      "('*\\x06\\x06\\x02\\x00\\x07\\x0eI$*N\\x1aI\\x05\\x00\\x02\\x0cI\\x08I\\x19\\x06\\x1c\\x07\\rI\\x06\\x0fI\\x0b\\x08\\n\\x06\\x07', '1')\n",
      "(\")\\x05\\x05\\x01\\x03\\x04\\rJ')M\\x19J\\x06\\x03\\x01\\x0fJ\\x0bJ\\x1a\\x05\\x1f\\x04\\x0eJ\\x05\\x0cJ\\x08\\x0b\\t\\x05\\x04\", '2')\n",
      "('(\\x04\\x04\\x00\\x02\\x05\\x0cK&(L\\x18K\\x07\\x02\\x00\\x0eK\\nK\\x1b\\x04\\x1e\\x05\\x0fK\\x04\\rK\\t\\n\\x08\\x04\\x05', '3')\n",
      "('/\\x03\\x03\\x07\\x05\\x02\\x0bL!/K\\x1fL\\x00\\x05\\x07\\tL\\rL\\x1c\\x03\\x19\\x02\\x08L\\x03\\nL\\x0e\\r\\x0f\\x03\\x02', '4')\n",
      "('.\\x02\\x02\\x06\\x04\\x03\\nM .J\\x1eM\\x01\\x04\\x06\\x08M\\x0cM\\x1d\\x02\\x18\\x03\\tM\\x02\\x0bM\\x0f\\x0c\\x0e\\x02\\x03', '5')\n",
      "('-\\x01\\x01\\x05\\x07\\x00\\tN#-I\\x1dN\\x02\\x07\\x05\\x0bN\\x0fN\\x1e\\x01\\x1b\\x00\\nN\\x01\\x08N\\x0c\\x0f\\r\\x01\\x00', '6')\n",
      "(',\\x00\\x00\\x04\\x06\\x01\\x08O\",H\\x1cO\\x03\\x06\\x04\\nO\\x0eO\\x1f\\x00\\x1a\\x01\\x0bO\\x00\\tO\\r\\x0e\\x0c\\x00\\x01', '7')\n",
      "('#\\x0f\\x0f\\x0b\\t\\x0e\\x07@-#G\\x13@\\x0c\\t\\x0b\\x05@\\x01@\\x10\\x0f\\x15\\x0e\\x04@\\x0f\\x06@\\x02\\x01\\x03\\x0f\\x0e', '8')\n",
      "('\"\\x0e\\x0e\\n\\x08\\x0f\\x06A,\"F\\x12A\\r\\x08\\n\\x04A\\x00A\\x11\\x0e\\x14\\x0f\\x05A\\x0e\\x07A\\x03\\x00\\x02\\x0e\\x0f', '9')\n",
      "('!\\r\\r\\t\\x0b\\x0c\\x05B/!E\\x11B\\x0e\\x0b\\t\\x07B\\x03B\\x12\\r\\x17\\x0c\\x06B\\r\\x04B\\x00\\x03\\x01\\r\\x0c', ':')\n",
      "(' \\x0c\\x0c\\x08\\n\\r\\x04C. D\\x10C\\x0f\\n\\x08\\x06C\\x02C\\x13\\x0c\\x16\\r\\x07C\\x0c\\x05C\\x01\\x02\\x00\\x0c\\r', ';')\n",
      "(\"'\\x0b\\x0b\\x0f\\r\\n\\x03D)'C\\x17D\\x08\\r\\x0f\\x01D\\x05D\\x14\\x0b\\x11\\n\\x00D\\x0b\\x02D\\x06\\x05\\x07\\x0b\\n\", '<')\n",
      "('&\\n\\n\\x0e\\x0c\\x0b\\x02E(&B\\x16E\\t\\x0c\\x0e\\x00E\\x04E\\x15\\n\\x10\\x0b\\x01E\\n\\x03E\\x07\\x04\\x06\\n\\x0b', '=')\n",
      "('%\\t\\t\\r\\x0f\\x08\\x01F+%A\\x15F\\n\\x0f\\r\\x03F\\x07F\\x16\\t\\x13\\x08\\x02F\\t\\x00F\\x04\\x07\\x05\\t\\x08', '>')\n",
      "('$\\x08\\x08\\x0c\\x0e\\t\\x00G*$@\\x14G\\x0b\\x0e\\x0c\\x02G\\x06G\\x17\\x08\\x12\\t\\x03G\\x08\\x01G\\x05\\x06\\x04\\x08\\t', '?')\n",
      "('[wwsqv\\x7f8U[?k8tqs}8y8hwmv|8w~8zy{wv', '@')\n",
      "('Zvvrpw~9TZ>j9upr|9x9ivlw}9v\\x7f9{xzvw', 'A')\n",
      "('Yuuqst}:WY=i:vsq\\x7f:{:juot~:u|:x{yut', 'B')\n",
      "('Xttpru|;VX<h;wrp~;z;ktnu\\x7f;t};yzxtu', 'C')\n",
      "('_sswur{<Q_;o<puwy<}<lsirx<sz<~}\\x7fsr', 'D')\n",
      "('^rrvtsz=P^:n=qtvx=|=mrhsy=r{=\\x7f|~rs', 'E')\n",
      "(']qquwpy>S]9m>rwu{>\\x7f>nqkpz>qx>|\\x7f}qp', 'F')\n",
      "('\\\\pptvqx?R\\\\8l?svtz?~?opjq{?py?}~|pq', 'G')\n",
      "('S\\x7f\\x7f{y~w0]S7c0|y{u0q0`\\x7fe~t0\\x7fv0rqs\\x7f~', 'H')\n",
      "('R~~zx\\x7fv1\\\\R6b1}xzt1p1a~d\\x7fu1~w1spr~\\x7f', 'I')\n",
      "('Q}}y{|u2_Q5a2~{yw2s2b}g|v2}t2psq}|', 'J')\n",
      "('P||xz}t3^P4`3\\x7fzxv3r3c|f}w3|u3qrp|}', 'K')\n",
      "('W{{\\x7f}zs4YW3g4x}\\x7fq4u4d{azp4{r4vuw{z', 'L')\n",
      "('Vzz~|{r5XV2f5y|~p5t5ez`{q5zs5wtvz{', 'M')\n",
      "('Uyy}\\x7fxq6[U1e6z\\x7f}s6w6fycxr6yp6twuyx', 'N')\n",
      "('Txx|~yp7ZT0d7{~|r7v7gxbys7xq7uvtxy', 'O')\n",
      "('Kggcafo(EK/{(dacm(i(xg}fl(gn(jikgf', 'P')\n",
      "('Jffb`gn)DJ.z)e`bl)h)yf|gm)fo)khjfg', 'Q')\n",
      "('Ieeacdm*GI-y*fcao*k*ze\\x7fdn*el*hkied', 'R')\n",
      "('Hdd`bel+FH,x+gb`n+j+{d~eo+dm+ijhde', 'S')\n",
      "('Occgebk,AO+\\x7f,`egi,m,|cybh,cj,nmocb', 'T')\n",
      "('Nbbfdcj-@N*~-adfh-l-}bxci-bk-olnbc', 'U')\n",
      "('Maaeg`i.CM)}.bgek.o.~a{`j.ah.loma`', 'V')\n",
      "('L``dfah/BL(|/cfdj/n/\\x7f`zak/`i/mnl`a', 'W')\n",
      "(\"Cooking MC's like a pound of bacon\", 'X')\n",
      "('Bnnjhof!LB&r!mhjd!`!qntoe!ng!c`bno', 'Y')\n",
      "('Ammikle\"OA%q\"nkig\"c\"rmwlf\"md\"`caml', 'Z')\n",
      "('@llhjmd#N@$p#ojhf#b#slvmg#le#ab`lm', '[')\n",
      "('Gkkomjc$IG#w$hmoa$e$tkqj`$kb$fegkj', '\\\\')\n",
      "('Fjjnlkb%HF\"v%iln`%d%ujpka%jc%gdfjk', ']')\n",
      "('Eiimoha&KE!u&jomc&g&vishb&i`&dgeih', '^')\n",
      "(\"Dhhlni`'JD t'knlb'f'whric'ha'efdhi\", '_')\n",
      "('{WWSQV_\\x18u{\\x1fK\\x18TQS]\\x18Y\\x18HWMV\\\\\\x18W^\\x18ZY[WV', '`')\n",
      "('zVVRPW^\\x19tz\\x1eJ\\x19UPR\\\\\\x19X\\x19IVLW]\\x19V_\\x19[XZVW', 'a')\n",
      "('yUUQST]\\x1awy\\x1dI\\x1aVSQ_\\x1a[\\x1aJUOT^\\x1aU\\\\\\x1aX[YUT', 'b')\n",
      "('xTTPRU\\\\\\x1bvx\\x1cH\\x1bWRP^\\x1bZ\\x1bKTNU_\\x1bT]\\x1bYZXTU', 'c')\n",
      "('\\x7fSSWUR[\\x1cq\\x7f\\x1bO\\x1cPUWY\\x1c]\\x1cLSIRX\\x1cSZ\\x1c^]_SR', 'd')\n",
      "('~RRVTSZ\\x1dp~\\x1aN\\x1dQTVX\\x1d\\\\\\x1dMRHSY\\x1dR[\\x1d_\\\\^RS', 'e')\n",
      "('}QQUWPY\\x1es}\\x19M\\x1eRWU[\\x1e_\\x1eNQKPZ\\x1eQX\\x1e\\\\_]QP', 'f')\n",
      "('|PPTVQX\\x1fr|\\x18L\\x1fSVTZ\\x1f^\\x1fOPJQ[\\x1fPY\\x1f]^\\\\PQ', 'g')\n",
      "('s__[Y^W\\x10}s\\x17C\\x10\\\\Y[U\\x10Q\\x10@_E^T\\x10_V\\x10RQS_^', 'h')\n",
      "('r^^ZX_V\\x11|r\\x16B\\x11]XZT\\x11P\\x11A^D_U\\x11^W\\x11SPR^_', 'i')\n",
      "('q]]Y[\\\\U\\x12\\x7fq\\x15A\\x12^[YW\\x12S\\x12B]G\\\\V\\x12]T\\x12PSQ]\\\\', 'j')\n",
      "('p\\\\\\\\XZ]T\\x13~p\\x14@\\x13_ZXV\\x13R\\x13C\\\\F]W\\x13\\\\U\\x13QRP\\\\]', 'k')\n",
      "('w[[_]ZS\\x14yw\\x13G\\x14X]_Q\\x14U\\x14D[AZP\\x14[R\\x14VUW[Z', 'l')\n",
      "('vZZ^\\\\[R\\x15xv\\x12F\\x15Y\\\\^P\\x15T\\x15EZ@[Q\\x15ZS\\x15WTVZ[', 'm')\n",
      "('uYY]_XQ\\x16{u\\x11E\\x16Z_]S\\x16W\\x16FYCXR\\x16YP\\x16TWUYX', 'n')\n",
      "('tXX\\\\^YP\\x17zt\\x10D\\x17[^\\\\R\\x17V\\x17GXBYS\\x17XQ\\x17UVTXY', 'o')\n",
      "('kGGCAFO\\x08ek\\x0f[\\x08DACM\\x08I\\x08XG]FL\\x08GN\\x08JIKGF', 'p')\n",
      "('jFFB@GN\\tdj\\x0eZ\\tE@BL\\tH\\tYF\\\\GM\\tFO\\tKHJFG', 'q')\n",
      "('iEEACDM\\ngi\\rY\\nFCAO\\nK\\nZE_DN\\nEL\\nHKIED', 'r')\n",
      "('hDD@BEL\\x0bfh\\x0cX\\x0bGB@N\\x0bJ\\x0b[D^EO\\x0bDM\\x0bIJHDE', 's')\n",
      "('oCCGEBK\\x0cao\\x0b_\\x0c@EGI\\x0cM\\x0c\\\\CYBH\\x0cCJ\\x0cNMOCB', 't')\n",
      "('nBBFDCJ\\r`n\\n^\\rADFH\\rL\\r]BXCI\\rBK\\rOLNBC', 'u')\n",
      "('mAAEG@I\\x0ecm\\t]\\x0eBGEK\\x0eO\\x0e^A[@J\\x0eAH\\x0eLOMA@', 'v')\n",
      "('l@@DFAH\\x0fbl\\x08\\\\\\x0fCFDJ\\x0fN\\x0f_@ZAK\\x0f@I\\x0fMNL@A', 'w')\n",
      "('cOOKING\\x00mc\\x07S\\x00LIKE\\x00A\\x00POUND\\x00OF\\x00BACON', 'x')\n",
      "('bNNJHOF\\x01lb\\x06R\\x01MHJD\\x01@\\x01QNTOE\\x01NG\\x01C@BNO', 'y')\n",
      "('aMMIKLE\\x02oa\\x05Q\\x02NKIG\\x02C\\x02RMWLF\\x02MD\\x02@CAML', 'z')\n",
      "('`LLHJMD\\x03n`\\x04P\\x03OJHF\\x03B\\x03SLVMG\\x03LE\\x03AB@LM', '{')\n",
      "('gKKOMJC\\x04ig\\x03W\\x04HMOA\\x04E\\x04TKQJ@\\x04KB\\x04FEGKJ', '|')\n",
      "('fJJNLKB\\x05hf\\x02V\\x05ILN@\\x05D\\x05UJPKA\\x05JC\\x05GDFJK', '}')\n",
      "('eIIMOHA\\x06ke\\x01U\\x06JOMC\\x06G\\x06VISHB\\x06I@\\x06DGEIH', '~')\n"
     ]
    }
   ],
   "source": [
    "#implementation\n",
    "# 1. convert each byte to it's corrosponding decimal then XOR with decimals 32 to 126 or the printable ASCII characters.\n",
    "# 2. convert the XORd string to ASCII using chr() method of python\n",
    "def do_xor(input_list, key):\n",
    "    output_list = []   \n",
    "\n",
    "    for i in input_list:\n",
    "        j = chr( int(i, base = 2) ^ key )\n",
    "        output_list.append(j)\n",
    "        outString = \"\".join(output_list)\n",
    "    return outString, chr(key)\n",
    "\n",
    "for i in range(32,127,1):\n",
    "    print(do_xor(bin_ct2, i))"
   ]
  },
  {
   "cell_type": "markdown",
   "id": "sweet-victor",
   "metadata": {},
   "source": [
    "## a bit about letter frequency\n",
    "\n",
    "No exact letter frequency distribution underlies a given language, since all writers write slightly differently. However, most languages have a characteristic distribution which is strongly apparent in longer texts. Even language changes as extreme as from old English to modern English (regarded as mutually unintelligible) show strong trends in related letter frequencies: over a small sample of Biblical passages, from most frequent to least frequent, enaid sorhm tgþlwu æcfy ðbpxz of old English compares to eotha sinrd luymw fgcbp kvjqxz of modern English, with the most extreme differences concerning letterforms not shared\n",
    "\n",
    "Linotype machines for the English language assumed the letter order, from most to least common, to be etaoin shrdlu cmfwyp vbgkjq xz based on the experience and custom of manual compositors. The equivalent for the French language was elaoin sdrétu cmfhyp vbgwqj xz. "
   ]
  },
  {
   "cell_type": "markdown",
   "id": "rapid-looking",
   "metadata": {},
   "source": [
    "To find the letter frequencies in a message, we’ll use an algorithm that simply orders the letters in a string by highest frequency to lowest frequency. hen the algorithm uses this ordered string to calculate what this book calls a frequency match score, which we’ll use to determine how similar a string’s letter frequency is to that of standard English."
   ]
  },
  {
   "cell_type": "code",
   "execution_count": null,
   "id": "falling-connectivity",
   "metadata": {},
   "outputs": [],
   "source": []
  }
 ],
 "metadata": {
  "kernelspec": {
   "display_name": "Python 3",
   "language": "python",
   "name": "python3"
  },
  "language_info": {
   "codemirror_mode": {
    "name": "ipython",
    "version": 3
   },
   "file_extension": ".py",
   "mimetype": "text/x-python",
   "name": "python",
   "nbconvert_exporter": "python",
   "pygments_lexer": "ipython3",
   "version": "3.8.10"
  }
 },
 "nbformat": 4,
 "nbformat_minor": 5
}
