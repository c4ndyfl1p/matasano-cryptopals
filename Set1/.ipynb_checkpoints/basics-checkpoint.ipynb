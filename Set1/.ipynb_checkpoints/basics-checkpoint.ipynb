{
 "cells": [
  {
   "cell_type": "code",
   "execution_count": 14,
   "id": "molecular-inspector",
   "metadata": {},
   "outputs": [],
   "source": [
    "hex_value = \"4\"\n"
   ]
  },
  {
   "cell_type": "code",
   "execution_count": 12,
   "id": "covered-makeup",
   "metadata": {},
   "outputs": [
    {
     "name": "stdout",
     "output_type": "stream",
     "text": [
      "int_value/dec_value: 4\n"
     ]
    }
   ],
   "source": [
    "#convert to Integer(decimal)\n",
    "int_value = int(hex_value, base=16)\n",
    "print(f\"int_value/dec_value: {int_value}\")\n"
   ]
  },
  {
   "cell_type": "code",
   "execution_count": 11,
   "id": "technological-steering",
   "metadata": {},
   "outputs": [
    {
     "name": "stdout",
     "output_type": "stream",
     "text": [
      "bin_value: 0b100\n"
     ]
    }
   ],
   "source": [
    "#convert integer to binary value\n",
    "bin_value = bin(int_value)\n",
    "print(f\"bin_value: {bin_value}\")"
   ]
  },
  {
   "cell_type": "markdown",
   "id": "supposed-density",
   "metadata": {},
   "source": [
    "Notice \"0b100\" has 3 digits. Leading zero is removed. But ideally one Hexadecimal uses a four-bit binary coding. This means that each digit in hexadecimal is the same as four digits in binary. Hence we need to add leading zeroes to it or pad it so it is a 4 bit binary number"
   ]
  },
  {
   "cell_type": "code",
   "execution_count": 9,
   "id": "logical-colon",
   "metadata": {},
   "outputs": [
    {
     "name": "stdout",
     "output_type": "stream",
     "text": [
      "bin_value without preceeding 0b: 100\n"
     ]
    }
   ],
   "source": [
    "#remove the precedding 0b\n",
    "bin_value = bin(int_value)[2:]\n",
    "print(f\"bin_value without preceeding 0b: {bin_value}\")"
   ]
  },
  {
   "cell_type": "code",
   "execution_count": 10,
   "id": "sudden-literature",
   "metadata": {},
   "outputs": [
    {
     "name": "stdout",
     "output_type": "stream",
     "text": [
      "bin_value_padded: 0100\n"
     ]
    }
   ],
   "source": [
    "\n",
    "#pad for 4 bit string:\n",
    "bin_value_padded = str(bin(int_value))[2:].zfill(4)\n",
    "print(f\"bin_value_padded: {bin_value_padded}\")"
   ]
  },
  {
   "cell_type": "markdown",
   "id": "running-potter",
   "metadata": {},
   "source": [
    "#converting hexadecimal long-string to binary and decimals"
   ]
  },
  {
   "cell_type": "code",
   "execution_count": null,
   "id": "thorough-aluminum",
   "metadata": {},
   "outputs": [],
   "source": [
    "ct = \"1b37373331363f78151b7f2b783431333d78397828372d363c78373e783a393b3736\"\n",
    "print(len(ct))"
   ]
  },
  {
   "cell_type": "code",
   "execution_count": null,
   "id": "identical-explosion",
   "metadata": {},
   "outputs": [],
   "source": [
    "#wrong way\n",
    "#convert to a list of 4 bit binary \n",
    "\n",
    "bin_ct =  bin(int(ct, base=16))[2:]\n",
    "print(len(bin_ct))\n",
    "\n",
    "int_ct = str(int(ct, base=16))\n",
    "print(int_ct)\n",
    "print(len(int_ct))"
   ]
  },
  {
   "cell_type": "markdown",
   "id": "formal-algebra",
   "metadata": {},
   "source": [
    "Notice the difference between this and the next cell. This happened because you need to take into account what bit-length is the encoding. It is extremely important to to think of every representation like that."
   ]
  },
  {
   "cell_type": "code",
   "execution_count": 15,
   "id": "concrete-special",
   "metadata": {},
   "outputs": [
    {
     "ename": "NameError",
     "evalue": "name 'ct' is not defined",
     "output_type": "error",
     "traceback": [
      "\u001b[0;31m---------------------------------------------------------------------------\u001b[0m",
      "\u001b[0;31mNameError\u001b[0m                                 Traceback (most recent call last)",
      "\u001b[0;32m<ipython-input-15-dcf10eaa55e5>\u001b[0m in \u001b[0;36m<module>\u001b[0;34m\u001b[0m\n\u001b[0;32m----> 1\u001b[0;31m \u001b[0mint_ct\u001b[0m \u001b[0;34m=\u001b[0m \u001b[0;34m[\u001b[0m\u001b[0mint\u001b[0m\u001b[0;34m(\u001b[0m\u001b[0mi\u001b[0m\u001b[0;34m,\u001b[0m \u001b[0mbase\u001b[0m\u001b[0;34m=\u001b[0m\u001b[0;36m16\u001b[0m\u001b[0;34m)\u001b[0m \u001b[0;32mfor\u001b[0m \u001b[0mi\u001b[0m \u001b[0;32min\u001b[0m \u001b[0mct\u001b[0m\u001b[0;34m]\u001b[0m\u001b[0;34m\u001b[0m\u001b[0;34m\u001b[0m\u001b[0m\n\u001b[0m\u001b[1;32m      2\u001b[0m \u001b[0mprint\u001b[0m\u001b[0;34m(\u001b[0m\u001b[0mint_ct\u001b[0m\u001b[0;34m)\u001b[0m\u001b[0;34m\u001b[0m\u001b[0;34m\u001b[0m\u001b[0m\n\u001b[1;32m      3\u001b[0m \u001b[0;34m\u001b[0m\u001b[0m\n\u001b[1;32m      4\u001b[0m \u001b[0mbin_ct\u001b[0m \u001b[0;34m=\u001b[0m \u001b[0;34m[\u001b[0m\u001b[0mbin\u001b[0m\u001b[0;34m(\u001b[0m\u001b[0mi\u001b[0m\u001b[0;34m)\u001b[0m \u001b[0;32mfor\u001b[0m \u001b[0mi\u001b[0m \u001b[0;32min\u001b[0m \u001b[0mint_ct\u001b[0m\u001b[0;34m]\u001b[0m\u001b[0;34m\u001b[0m\u001b[0;34m\u001b[0m\u001b[0m\n\u001b[1;32m      5\u001b[0m \u001b[0mprint\u001b[0m\u001b[0;34m(\u001b[0m\u001b[0mbin_ct\u001b[0m\u001b[0;34m)\u001b[0m\u001b[0;34m\u001b[0m\u001b[0;34m\u001b[0m\u001b[0m\n",
      "\u001b[0;31mNameError\u001b[0m: name 'ct' is not defined"
     ]
    }
   ],
   "source": [
    "int_ct = [int(i, base=16) for i in ct]\n",
    "print(int_ct)\n",
    "\n",
    "bin_ct = [bin(i) for i in int_ct]\n",
    "print(bin_ct)\n",
    "\n",
    "bin_ct = [i[2:].zfill(4) for i in bin_ct]\n",
    "print(bin_ct)"
   ]
  },
  {
   "cell_type": "markdown",
   "id": "curious-wrapping",
   "metadata": {},
   "source": [
    "# 2 ways of converting a long-hex string into decimals.\n"
   ]
  },
  {
   "cell_type": "code",
   "execution_count": 18,
   "id": "variable-translator",
   "metadata": {},
   "outputs": [
    {
     "name": "stdout",
     "output_type": "stream",
     "text": [
      "2439506885960970423528311773783961071327260 43\n",
      "[1, 12, 0, 1, 1, 1, 0, 0, 1, 15, 0, 1, 0, 1, 0, 0, 0, 6, 1, 10, 0, 2, 4, 11, 5, 3, 5, 3, 5, 0, 0, 9, 1, 8, 1, 12] 36\n"
     ]
    }
   ],
   "source": [
    "hex1 = \"1c0111001f010100061a024b53535009181c\"\n",
    "qdec1 = int(hex1, base=16)\n",
    "print(qdec1, len(str(qdec1)))\n",
    "zdec1 = [int(i, base=16) for i in hex1]\n",
    "print(zdec1, len(zdec1))"
   ]
  }
 ],
 "metadata": {
  "kernelspec": {
   "display_name": "Python 3",
   "language": "python",
   "name": "python3"
  },
  "language_info": {
   "codemirror_mode": {
    "name": "ipython",
    "version": 3
   },
   "file_extension": ".py",
   "mimetype": "text/x-python",
   "name": "python",
   "nbconvert_exporter": "python",
   "pygments_lexer": "ipython3",
   "version": "3.8.6"
  }
 },
 "nbformat": 4,
 "nbformat_minor": 5
}
