{
 "cells": [
  {
   "cell_type": "code",
   "execution_count": 3,
   "id": "civic-fortune",
   "metadata": {},
   "outputs": [
    {
     "name": "stdout",
     "output_type": "stream",
     "text": [
      "68\n"
     ]
    }
   ],
   "source": [
    "ct = \"1b37373331363f78151b7f2b783431333d78397828372d363c78373e783a393b3736\"\n",
    "print(len(ct))"
   ]
  },
  {
   "cell_type": "code",
   "execution_count": 4,
   "id": "recovered-story",
   "metadata": {},
   "outputs": [
    {
     "name": "stdout",
     "output_type": "stream",
     "text": [
      "269\n",
      "806748453371902409051174291875458592743800337585421566549206796642836053682239286\n",
      "81\n"
     ]
    }
   ],
   "source": [
    "#wrong way\n",
    "#convert to a list of 4 bit binary \n",
    "\n",
    "bin_ct =  bin(int(ct, base=16))[2:]\n",
    "print(len(bin_ct))\n",
    "\n",
    "int_ct = str(int(ct, base=16))\n",
    "print(int_ct)\n",
    "print(len(int_ct))"
   ]
  },
  {
   "cell_type": "markdown",
   "id": "municipal-kazakhstan",
   "metadata": {},
   "source": [
    "Notice the difference between this and the next cell. This happened because you need to take into account what bit-length is the encoding. It is extremely important to to think of every representation like that."
   ]
  },
  {
   "cell_type": "code",
   "execution_count": 5,
   "id": "novel-notice",
   "metadata": {},
   "outputs": [
    {
     "name": "stdout",
     "output_type": "stream",
     "text": [
      "[1, 11, 3, 7, 3, 7, 3, 3, 3, 1, 3, 6, 3, 15, 7, 8, 1, 5, 1, 11, 7, 15, 2, 11, 7, 8, 3, 4, 3, 1, 3, 3, 3, 13, 7, 8, 3, 9, 7, 8, 2, 8, 3, 7, 2, 13, 3, 6, 3, 12, 7, 8, 3, 7, 3, 14, 7, 8, 3, 10, 3, 9, 3, 11, 3, 7, 3, 6]\n",
      "['0b1', '0b1011', '0b11', '0b111', '0b11', '0b111', '0b11', '0b11', '0b11', '0b1', '0b11', '0b110', '0b11', '0b1111', '0b111', '0b1000', '0b1', '0b101', '0b1', '0b1011', '0b111', '0b1111', '0b10', '0b1011', '0b111', '0b1000', '0b11', '0b100', '0b11', '0b1', '0b11', '0b11', '0b11', '0b1101', '0b111', '0b1000', '0b11', '0b1001', '0b111', '0b1000', '0b10', '0b1000', '0b11', '0b111', '0b10', '0b1101', '0b11', '0b110', '0b11', '0b1100', '0b111', '0b1000', '0b11', '0b111', '0b11', '0b1110', '0b111', '0b1000', '0b11', '0b1010', '0b11', '0b1001', '0b11', '0b1011', '0b11', '0b111', '0b11', '0b110']\n",
      "['0001', '1011', '0011', '0111', '0011', '0111', '0011', '0011', '0011', '0001', '0011', '0110', '0011', '1111', '0111', '1000', '0001', '0101', '0001', '1011', '0111', '1111', '0010', '1011', '0111', '1000', '0011', '0100', '0011', '0001', '0011', '0011', '0011', '1101', '0111', '1000', '0011', '1001', '0111', '1000', '0010', '1000', '0011', '0111', '0010', '1101', '0011', '0110', '0011', '1100', '0111', '1000', '0011', '0111', '0011', '1110', '0111', '1000', '0011', '1010', '0011', '1001', '0011', '1011', '0011', '0111', '0011', '0110']\n"
     ]
    }
   ],
   "source": [
    "int_ct = [int(i, base=16) for i in ct]\n",
    "print(int_ct)\n",
    "\n",
    "bin_ct = [bin(i) for i in int_ct]\n",
    "print(bin_ct)\n",
    "\n",
    "bin_ct = [i[2:].zfill(4) for i in bin_ct]\n",
    "print(bin_ct)"
   ]
  },
  {
   "cell_type": "code",
   "execution_count": 6,
   "id": "invisible-ideal",
   "metadata": {},
   "outputs": [
    {
     "name": "stdout",
     "output_type": "stream",
     "text": [
      "0001\n",
      "0011\n",
      "0011\n",
      "0011\n",
      "0011\n",
      "0011\n",
      "0011\n",
      "0111\n",
      "0001\n",
      "0001\n",
      "0111\n",
      "0010\n",
      "0111\n",
      "0011\n",
      "0011\n",
      "0011\n",
      "0011\n",
      "0111\n",
      "0011\n",
      "0111\n",
      "0010\n",
      "0011\n",
      "0010\n",
      "0011\n",
      "0011\n",
      "0111\n",
      "0011\n",
      "0011\n",
      "0111\n",
      "0011\n",
      "0011\n",
      "0011\n",
      "0011\n",
      "0011\n"
     ]
    }
   ],
   "source": [
    "#comibine 2 indices to be a 8 bit binary ind\n",
    "bin_ct2 = []\n",
    "for i in range(0, len(bin_ct), 2):\n",
    "    print(bin_ct[i])\n",
    "    bin_ct2[i] = bin_ct[i] + bin_ct[i+1]\n",
    "    "
   ]
  }
 ],
 "metadata": {
  "kernelspec": {
   "display_name": "Python 3",
   "language": "python",
   "name": "python3"
  },
  "language_info": {
   "codemirror_mode": {
    "name": "ipython",
    "version": 3
   },
   "file_extension": ".py",
   "mimetype": "text/x-python",
   "name": "python",
   "nbconvert_exporter": "python",
   "pygments_lexer": "ipython3",
   "version": "3.8.6"
  }
 },
 "nbformat": 4,
 "nbformat_minor": 5
}
