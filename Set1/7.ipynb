{
 "cells": [
  {
   "cell_type": "markdown",
   "metadata": {},
   "source": [
    "# AES-128 in ECB mode"
   ]
  },
  {
   "cell_type": "markdown",
   "metadata": {},
   "source": [
    "AES or Advanedced Encryption Standard is a variant  of the Rijndael block cipher. \n",
    "\n",
    "It's a successor to DES and does not use a fiestal network. It's based on a design principle known as a substitution-permutation network, and is efficient in both software and hardware.\n",
    "\n",
    "It's a symetric key cipher\n",
    "\n",
    "For AES, NIST selected three members of the Rijndael family, each with a blovk size of 128 bits, but three different key lengths: 128-10 rounds, 192-12 rounds and 256-14 rounds.\n",
    "\n",
    "AES operates on a 4*4 column-major order array of bytes. termed ass state.\n",
    "ex: for 16 bytes b_0, b_1,...b_15 are represented as this 2 dimentional array:\n",
    "\n",
    "\n"
   ]
  },
  {
   "cell_type": "markdown",
   "metadata": {},
   "source": [
    "KeyExpansion - \n",
    "\n",
    "**The AES key expansion algorithm takes as input a four-word (16-byte) key and produces a linear array of 44 words (176 bytes).  This is sufficient to provide a four-word round key for the initial AddRoundKey stage and each of the 10 rounds of the cipher.**\n",
    "\n",
    "round keys are derived from the cipher key using the AES key schedule. AES require a separate 128-bit round key block for each round plus one more. So for AES-128(which has 10 rounds) we need 11 round keys.\n",
    "\n",
    "1 word = 4bytes = 32 bit.\n",
    "So AES-128 key has 4 words.\n",
    "The key expansions all utilize a few operation in Rijndael's Galois field. The operations are:\n",
    "\n",
    "    - An 8-bit circular rotate on a 32-bit word\n",
    "    - A rcon operation that is simply 2 exponentiated in the Galois field.\n",
    "    - Rijndael's S-box operation\n",
    "    - A key schedule routine \n",
    "\n"
   ]
  }
 ],
 "metadata": {
  "language_info": {
   "name": "python"
  },
  "orig_nbformat": 4
 },
 "nbformat": 4,
 "nbformat_minor": 2
}
